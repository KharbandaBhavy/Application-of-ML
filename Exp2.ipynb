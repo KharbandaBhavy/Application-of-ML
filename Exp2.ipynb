{
 "cells": [
  {
   "attachments": {},
   "cell_type": "markdown",
   "metadata": {},
   "source": [
    "# Candidate Elimination Learning Algorithm"
   ]
  },
  {
   "cell_type": "code",
   "execution_count": 29,
   "metadata": {},
   "outputs": [],
   "source": [
    "# Code by Bhavy Kharbanda\n",
    "# Sap Id: 500082531"
   ]
  },
  {
   "cell_type": "code",
   "execution_count": 30,
   "metadata": {},
   "outputs": [],
   "source": [
    "# Reference for the video of this algorithm.\n",
    "# https://www.i2tutorials.com/machine-learning-tutorial/machine-learning-candidate-elimination-learning-algorithm/\n",
    "# https://www.youtube.com/watch?v=O2wYwFOMQ24"
   ]
  },
  {
   "cell_type": "code",
   "execution_count": 31,
   "metadata": {},
   "outputs": [],
   "source": [
    "# The key idea in the CANDIDATE-ELIMINATlON Algo is to output a description of the set of all hypotheses consistent with the training examples. "
   ]
  },
  {
   "cell_type": "code",
   "execution_count": 32,
   "metadata": {},
   "outputs": [],
   "source": [
    "# Candidate Elimination Algorithm:\n",
    "# 1. Initialize both specific and general hypotheses.  \n",
    "# S = < ‘ϕ’, ‘ϕ’, ‘ϕ’, ….., ‘ϕ’ >\n",
    "# G = < ‘?’, ‘?’, ‘?’, ….., ’?’>\n",
    "\n",
    "# Depending on the number of attributes.\n",
    "# 2. Take the next example, if the taken example is positive make a specific hypothesis to general.\n",
    "\n",
    "# 3. If the taken example is negative make the general hypothesis to a more specific hypothesis."
   ]
  },
  {
   "cell_type": "code",
   "execution_count": 33,
   "metadata": {},
   "outputs": [],
   "source": [
    "# Import libraries\n",
    "import numpy as np \n",
    "import pandas as pd"
   ]
  },
  {
   "cell_type": "code",
   "execution_count": 34,
   "metadata": {},
   "outputs": [
    {
     "name": "stdout",
     "output_type": "stream",
     "text": [
      "\n",
      "Instances are:\n",
      " [['Sunny' 'Warm' 'Normal' 'Strong' 'Warm' 'Same']\n",
      " ['Sunny' 'Warm' 'High' 'Strong' 'Warm' 'Same']\n",
      " ['Rainy' 'Cold' 'High' 'Strong' 'Warm' 'Change']\n",
      " ['Sunny' 'Warm' 'High' 'Strong' 'Cool' 'Change']]\n",
      "\n",
      "Target Values are:  ['Yes' 'Yes' 'No' 'Yes']\n"
     ]
    }
   ],
   "source": [
    "# Importing the dataset\n",
    "data = pd.read_csv('Datasets\\EnjoySport.csv')\n",
    "\n",
    "# Specifying the column\n",
    "\n",
    "instances = np.array(data.iloc[:,0:-1])\n",
    "print(\"\\nInstances are:\\n\",instances)\n",
    "\n",
    "target = np.array(data.iloc[:,-1])\n",
    "print(\"\\nTarget Values are: \",target)"
   ]
  },
  {
   "cell_type": "code",
   "execution_count": 35,
   "metadata": {},
   "outputs": [],
   "source": [
    "# Function to learn the algorithm:\n",
    "def learn(instances, target): \n",
    "    specific_h = instances[0].copy()\n",
    "    print(\"\\nInitialization of specific_hypothesis and genearal_hypothesis: \")\n",
    "    print(\"\\nSpecific Hypothesis: \", specific_h)\n",
    "    general_h = [[\"?\" for i in range(len(specific_h))] for i in range(len(specific_h))]\n",
    "    print(\"\\nGeneral Hypothesis: \",general_h)  \n",
    "\n",
    "    # Loop to traverse in the instances given\n",
    "    for i, h in enumerate(instances):\n",
    "        print(\"\\nInstance\", i+1, \": \")\n",
    "        print(h)\n",
    "        if target[i] == \"Yes\":\n",
    "            print(\"Instance is Positive \")\n",
    "            for x in range(len(specific_h)): \n",
    "                if h[x]!= specific_h[x]:                    \n",
    "                    specific_h[x] ='?'                     \n",
    "                    general_h[x][x] ='?'\n",
    "                   \n",
    "        if target[i] == \"No\":            \n",
    "            print(\"Instance is Negative \")\n",
    "            for x in range(len(specific_h)): \n",
    "                if h[x]!= specific_h[x]:                    \n",
    "                    general_h[x][x] = specific_h[x]                \n",
    "                else:                    \n",
    "                    general_h[x][x] = '?'        \n",
    "        \n",
    "        print(\"Specific Bundary now:  \", specific_h)         \n",
    "        print(\"Generic Boundary now:  \",  general_h)\n",
    "        print(\"\\n\")\n",
    "\n",
    "    indices = [i for i, val in enumerate(general_h) if val == ['?', '?', '?', '?', '?', '?']]    \n",
    "    for i in indices:   \n",
    "        general_h.remove(['?', '?', '?', '?', '?', '?']) \n",
    "    return specific_h, general_h "
   ]
  },
  {
   "cell_type": "code",
   "execution_count": 36,
   "metadata": {},
   "outputs": [
    {
     "name": "stdout",
     "output_type": "stream",
     "text": [
      "\n",
      "Initialization of specific_hypothesis and genearal_hypothesis: \n",
      "\n",
      "Specific Hypothesis:  ['Sunny' 'Warm' 'Normal' 'Strong' 'Warm' 'Same']\n",
      "\n",
      "General Hypothesis:  [['?', '?', '?', '?', '?', '?'], ['?', '?', '?', '?', '?', '?'], ['?', '?', '?', '?', '?', '?'], ['?', '?', '?', '?', '?', '?'], ['?', '?', '?', '?', '?', '?'], ['?', '?', '?', '?', '?', '?']]\n",
      "\n",
      "Instance 1 : \n",
      "['Sunny' 'Warm' 'Normal' 'Strong' 'Warm' 'Same']\n",
      "Instance is Positive \n",
      "Specific Bundary now:   ['Sunny' 'Warm' 'Normal' 'Strong' 'Warm' 'Same']\n",
      "Generic Boundary now:   [['?', '?', '?', '?', '?', '?'], ['?', '?', '?', '?', '?', '?'], ['?', '?', '?', '?', '?', '?'], ['?', '?', '?', '?', '?', '?'], ['?', '?', '?', '?', '?', '?'], ['?', '?', '?', '?', '?', '?']]\n",
      "\n",
      "\n",
      "\n",
      "Instance 2 : \n",
      "['Sunny' 'Warm' 'High' 'Strong' 'Warm' 'Same']\n",
      "Instance is Positive \n",
      "Specific Bundary now:   ['Sunny' 'Warm' '?' 'Strong' 'Warm' 'Same']\n",
      "Generic Boundary now:   [['?', '?', '?', '?', '?', '?'], ['?', '?', '?', '?', '?', '?'], ['?', '?', '?', '?', '?', '?'], ['?', '?', '?', '?', '?', '?'], ['?', '?', '?', '?', '?', '?'], ['?', '?', '?', '?', '?', '?']]\n",
      "\n",
      "\n",
      "\n",
      "Instance 3 : \n",
      "['Rainy' 'Cold' 'High' 'Strong' 'Warm' 'Change']\n",
      "Instance is Negative \n",
      "Specific Bundary now:   ['Sunny' 'Warm' '?' 'Strong' 'Warm' 'Same']\n",
      "Generic Boundary now:   [['Sunny', '?', '?', '?', '?', '?'], ['?', 'Warm', '?', '?', '?', '?'], ['?', '?', '?', '?', '?', '?'], ['?', '?', '?', '?', '?', '?'], ['?', '?', '?', '?', '?', '?'], ['?', '?', '?', '?', '?', 'Same']]\n",
      "\n",
      "\n",
      "\n",
      "Instance 4 : \n",
      "['Sunny' 'Warm' 'High' 'Strong' 'Cool' 'Change']\n",
      "Instance is Positive \n",
      "Specific Bundary now:   ['Sunny' 'Warm' '?' 'Strong' '?' '?']\n",
      "Generic Boundary now:   [['Sunny', '?', '?', '?', '?', '?'], ['?', 'Warm', '?', '?', '?', '?'], ['?', '?', '?', '?', '?', '?'], ['?', '?', '?', '?', '?', '?'], ['?', '?', '?', '?', '?', '?'], ['?', '?', '?', '?', '?', '?']]\n",
      "\n",
      "\n"
     ]
    }
   ],
   "source": [
    "# Fetching the function's results\n",
    "specific_result, general_result = learn(instances, target)"
   ]
  },
  {
   "cell_type": "code",
   "execution_count": 37,
   "metadata": {},
   "outputs": [
    {
     "name": "stdout",
     "output_type": "stream",
     "text": [
      "\n",
      "Final Specific Hypothesis:  ['Sunny' 'Warm' '?' 'Strong' '?' '?']\n",
      "\n",
      "Final General Hypothesis:  [['Sunny', '?', '?', '?', '?', '?'], ['?', 'Warm', '?', '?', '?', '?']]\n"
     ]
    }
   ],
   "source": [
    "# Printing the final hypothesis: \n",
    "print(\"\\nFinal Specific Hypothesis: \", specific_result)\n",
    "print(\"\\nFinal General Hypothesis: \", general_result)"
   ]
  },
  {
   "attachments": {},
   "cell_type": "markdown",
   "metadata": {},
   "source": [
    "### Working on another dataset"
   ]
  },
  {
   "cell_type": "code",
   "execution_count": 38,
   "metadata": {},
   "outputs": [
    {
     "name": "stdout",
     "output_type": "stream",
     "text": [
      "\n",
      "Instances are:\n",
      " [['Big' 'Red' 'Circle']\n",
      " ['Small' 'Red' 'Triangle']\n",
      " ['Small' 'Red' 'Circle']\n",
      " ['Big' 'Blue' 'Circle']\n",
      " ['Small' 'Blue' 'Circle']]\n",
      "\n",
      "Target Values are:  ['No' 'No' 'Yes' 'Yes' 'Yes']\n"
     ]
    }
   ],
   "source": [
    "# Importing the dataset\n",
    "data = pd.read_csv('Datasets\\Shape_dataset.csv')\n",
    "\n",
    "# Specifying the column\n",
    "\n",
    "instances = np.array(data.iloc[:,0:-1])\n",
    "print(\"\\nInstances are:\\n\",instances)\n",
    "\n",
    "target = np.array(data.iloc[:,-1])\n",
    "print(\"\\nTarget Values are: \",target)"
   ]
  },
  {
   "cell_type": "code",
   "execution_count": 43,
   "metadata": {},
   "outputs": [],
   "source": [
    "# Function to learn the algorithm:\n",
    "def learn(instances, target): \n",
    "    specific_h = instances[0].copy()\n",
    "    print(\"\\nInitialization of specific_hypothesis and genearal_hypothesis: \")\n",
    "    print(\"\\nSpecific Hypothesis: \", specific_h)\n",
    "    general_h = [[\"?\" for i in range(len(specific_h))] for i in range(len(specific_h))]\n",
    "    print(\"\\nGeneral Hypothesis: \",general_h)  \n",
    "\n",
    "    # Loop to traverse in the instances given\n",
    "    for i, h in enumerate(instances):\n",
    "        print(\"\\nInstance\", i+1, \": \")\n",
    "        print(h)\n",
    "        if target[i] == \"Yes\":\n",
    "            print(\"Instance is Positive \")\n",
    "            for x in range(len(specific_h)): \n",
    "                if h[x]!= specific_h[x]:                    \n",
    "                    specific_h[x] ='?'                     \n",
    "                    general_h[x][x] ='?'\n",
    "                   \n",
    "        if target[i] == \"No\":            \n",
    "            print(\"Instance is Negative \")\n",
    "            for x in range(len(specific_h)): \n",
    "                if h[x]!= specific_h[x]:                    \n",
    "                    general_h[x][x] = specific_h[x]                \n",
    "                else:                    \n",
    "                    general_h[x][x] = '?'        \n",
    "        \n",
    "        print(\"Specific Bundary now:  \", specific_h)         \n",
    "        print(\"Generic Boundary now:  \",  general_h)\n",
    "        print(\"\\n\")\n",
    "\n",
    "    indices = [i for i, val in enumerate(general_h) if val == ['?', '?', '?', '?', '?', '?']]    \n",
    "    for i in indices:   \n",
    "        general_h.remove(['?', '?', '?', '?', '?', '?']) \n",
    "    return specific_h, general_h "
   ]
  },
  {
   "cell_type": "code",
   "execution_count": 40,
   "metadata": {},
   "outputs": [
    {
     "name": "stdout",
     "output_type": "stream",
     "text": [
      "\n",
      "Initialization of specific_hypothesis and genearal_hypothesis: \n",
      "\n",
      "Specific Hypothesis:  ['Big' 'Red' 'Circle']\n",
      "\n",
      "General Hypothesis:  [['?', '?', '?'], ['?', '?', '?'], ['?', '?', '?']]\n",
      "\n",
      "Instance 1 : \n",
      "['Big' 'Red' 'Circle']\n",
      "Instance is Negative \n",
      "Specific Bundary now:   ['Big' 'Red' 'Circle']\n",
      "Generic Boundary now:   [['?', '?', '?'], ['?', '?', '?'], ['?', '?', '?']]\n",
      "\n",
      "\n",
      "\n",
      "Instance 2 : \n",
      "['Small' 'Red' 'Triangle']\n",
      "Instance is Negative \n",
      "Specific Bundary now:   ['Big' 'Red' 'Circle']\n",
      "Generic Boundary now:   [['Big', '?', '?'], ['?', '?', '?'], ['?', '?', 'Circle']]\n",
      "\n",
      "\n",
      "\n",
      "Instance 3 : \n",
      "['Small' 'Red' 'Circle']\n",
      "Instance is Positive \n",
      "Specific Bundary now:   ['?' 'Red' 'Circle']\n",
      "Generic Boundary now:   [['?', '?', '?'], ['?', '?', '?'], ['?', '?', 'Circle']]\n",
      "\n",
      "\n",
      "\n",
      "Instance 4 : \n",
      "['Big' 'Blue' 'Circle']\n",
      "Instance is Positive \n",
      "Specific Bundary now:   ['?' '?' 'Circle']\n",
      "Generic Boundary now:   [['?', '?', '?'], ['?', '?', '?'], ['?', '?', 'Circle']]\n",
      "\n",
      "\n",
      "\n",
      "Instance 5 : \n",
      "['Small' 'Blue' 'Circle']\n",
      "Instance is Positive \n",
      "Specific Bundary now:   ['?' '?' 'Circle']\n",
      "Generic Boundary now:   [['?', '?', '?'], ['?', '?', '?'], ['?', '?', 'Circle']]\n",
      "\n",
      "\n"
     ]
    }
   ],
   "source": [
    "# Fetching the function's results\n",
    "specific_result, general_result = learn(instances, target)"
   ]
  },
  {
   "cell_type": "code",
   "execution_count": 41,
   "metadata": {},
   "outputs": [
    {
     "name": "stdout",
     "output_type": "stream",
     "text": [
      "\n",
      "Final Specific Hypothesis:  ['?' '?' 'Circle']\n",
      "\n",
      "Final General Hypothesis:  [['?', '?', '?'], ['?', '?', '?'], ['?', '?', 'Circle']]\n"
     ]
    }
   ],
   "source": [
    "# Printing the final hypothesis: \n",
    "print(\"\\nFinal Specific Hypothesis: \", specific_result)\n",
    "print(\"\\nFinal General Hypothesis: \", general_result)"
   ]
  },
  {
   "attachments": {},
   "cell_type": "markdown",
   "metadata": {},
   "source": [
    "### Working on third dataset"
   ]
  },
  {
   "cell_type": "code",
   "execution_count": 47,
   "metadata": {},
   "outputs": [
    {
     "name": "stdout",
     "output_type": "stream",
     "text": [
      "\n",
      "Instances are:\n",
      " [['Some' 'Small' 'No' 'Affordable' 'One']\n",
      " ['Many' 'Big' 'No' 'Expensive' 'Many']\n",
      " ['Many' 'Medium' 'No' 'Expensive' 'Few']\n",
      " ['Many' 'Small' 'No' 'Affordable' 'Many']]\n",
      "\n",
      "Target Values are:  ['No' 'Yes' 'Yes' 'Yes']\n"
     ]
    }
   ],
   "source": [
    "# Importing the dataset\n",
    "data = pd.read_csv('Datasets\\Price_dataset.csv')\n",
    "\n",
    "# Specifying the column\n",
    "\n",
    "instances = np.array(data.iloc[:,0:-1])\n",
    "print(\"\\nInstances are:\\n\",instances)\n",
    "\n",
    "target = np.array(data.iloc[:,-1])\n",
    "print(\"\\nTarget Values are: \",target)"
   ]
  },
  {
   "cell_type": "code",
   "execution_count": 48,
   "metadata": {},
   "outputs": [],
   "source": [
    "# Function to learn the algorithm:\n",
    "def learn(instances, target): \n",
    "    specific_h = instances[0].copy()\n",
    "    print(\"\\nInitialization of specific_hypothesis and genearal_hypothesis: \")\n",
    "    print(\"\\nSpecific Hypothesis: \", specific_h)\n",
    "    general_h = [[\"?\" for i in range(len(specific_h))] for i in range(len(specific_h))]\n",
    "    print(\"\\nGeneral Hypothesis: \",general_h)  \n",
    "\n",
    "    # Loop to traverse in the instances given\n",
    "    for i, h in enumerate(instances):\n",
    "        print(\"\\nInstance\", i+1, \": \")\n",
    "        print(h)\n",
    "        if target[i] == \"Yes\":\n",
    "            print(\"Instance is Positive \")\n",
    "            for x in range(len(specific_h)): \n",
    "                if h[x]!= specific_h[x]:                    \n",
    "                    specific_h[x] ='?'                     \n",
    "                    general_h[x][x] ='?'\n",
    "                   \n",
    "        if target[i] == \"No\":            \n",
    "            print(\"Instance is Negative \")\n",
    "            for x in range(len(specific_h)): \n",
    "                if h[x]!= specific_h[x]:                    \n",
    "                    general_h[x][x] = specific_h[x]                \n",
    "                else:                    \n",
    "                    general_h[x][x] = '?'        \n",
    "        \n",
    "        print(\"Specific Bundary now:  \", specific_h)         \n",
    "        print(\"Generic Boundary now:  \",  general_h)\n",
    "        print(\"\\n\")\n",
    "\n",
    "    indices = [i for i, val in enumerate(general_h) if val == ['?', '?', '?', '?', '?', '?']]    \n",
    "    for i in indices:   \n",
    "        general_h.remove(['?', '?', '?', '?', '?', '?']) \n",
    "    return specific_h, general_h "
   ]
  },
  {
   "cell_type": "code",
   "execution_count": 49,
   "metadata": {},
   "outputs": [
    {
     "name": "stdout",
     "output_type": "stream",
     "text": [
      "\n",
      "Initialization of specific_hypothesis and genearal_hypothesis: \n",
      "\n",
      "Specific Hypothesis:  ['Some' 'Small' 'No' 'Affordable' 'One']\n",
      "\n",
      "General Hypothesis:  [['?', '?', '?', '?', '?'], ['?', '?', '?', '?', '?'], ['?', '?', '?', '?', '?'], ['?', '?', '?', '?', '?'], ['?', '?', '?', '?', '?']]\n",
      "\n",
      "Instance 1 : \n",
      "['Some' 'Small' 'No' 'Affordable' 'One']\n",
      "Instance is Negative \n",
      "Specific Bundary now:   ['Some' 'Small' 'No' 'Affordable' 'One']\n",
      "Generic Boundary now:   [['?', '?', '?', '?', '?'], ['?', '?', '?', '?', '?'], ['?', '?', '?', '?', '?'], ['?', '?', '?', '?', '?'], ['?', '?', '?', '?', '?']]\n",
      "\n",
      "\n",
      "\n",
      "Instance 2 : \n",
      "['Many' 'Big' 'No' 'Expensive' 'Many']\n",
      "Instance is Positive \n",
      "Specific Bundary now:   ['?' '?' 'No' '?' '?']\n",
      "Generic Boundary now:   [['?', '?', '?', '?', '?'], ['?', '?', '?', '?', '?'], ['?', '?', '?', '?', '?'], ['?', '?', '?', '?', '?'], ['?', '?', '?', '?', '?']]\n",
      "\n",
      "\n",
      "\n",
      "Instance 3 : \n",
      "['Many' 'Medium' 'No' 'Expensive' 'Few']\n",
      "Instance is Positive \n",
      "Specific Bundary now:   ['?' '?' 'No' '?' '?']\n",
      "Generic Boundary now:   [['?', '?', '?', '?', '?'], ['?', '?', '?', '?', '?'], ['?', '?', '?', '?', '?'], ['?', '?', '?', '?', '?'], ['?', '?', '?', '?', '?']]\n",
      "\n",
      "\n",
      "\n",
      "Instance 4 : \n",
      "['Many' 'Small' 'No' 'Affordable' 'Many']\n",
      "Instance is Positive \n",
      "Specific Bundary now:   ['?' '?' 'No' '?' '?']\n",
      "Generic Boundary now:   [['?', '?', '?', '?', '?'], ['?', '?', '?', '?', '?'], ['?', '?', '?', '?', '?'], ['?', '?', '?', '?', '?'], ['?', '?', '?', '?', '?']]\n",
      "\n",
      "\n"
     ]
    }
   ],
   "source": [
    "# Fetching the function's results\n",
    "specific_result, general_result = learn(instances, target)"
   ]
  },
  {
   "cell_type": "code",
   "execution_count": 50,
   "metadata": {},
   "outputs": [
    {
     "name": "stdout",
     "output_type": "stream",
     "text": [
      "\n",
      "Final Specific Hypothesis:  ['?' '?' 'No' '?' '?']\n",
      "\n",
      "Final General Hypothesis:  [['?', '?', '?', '?', '?'], ['?', '?', '?', '?', '?'], ['?', '?', '?', '?', '?'], ['?', '?', '?', '?', '?'], ['?', '?', '?', '?', '?']]\n"
     ]
    }
   ],
   "source": [
    "# Printing the final hypothesis: \n",
    "print(\"\\nFinal Specific Hypothesis: \", specific_result)\n",
    "print(\"\\nFinal General Hypothesis: \", general_result)"
   ]
  }
 ],
 "metadata": {
  "kernelspec": {
   "display_name": "Python 3",
   "language": "python",
   "name": "python3"
  },
  "language_info": {
   "codemirror_mode": {
    "name": "ipython",
    "version": 3
   },
   "file_extension": ".py",
   "mimetype": "text/x-python",
   "name": "python",
   "nbconvert_exporter": "python",
   "pygments_lexer": "ipython3",
   "version": "3.10.7"
  },
  "orig_nbformat": 4,
  "vscode": {
   "interpreter": {
    "hash": "3ee691e3c2883c6a130fe7a4fe904a1eaf00aeea2af805a016ed0d0bd8e74479"
   }
  }
 },
 "nbformat": 4,
 "nbformat_minor": 2
}
