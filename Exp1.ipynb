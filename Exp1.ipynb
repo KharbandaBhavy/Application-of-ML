{
 "cells": [
  {
   "attachments": {},
   "cell_type": "markdown",
   "metadata": {},
   "source": [
    "### Find S Algorithm"
   ]
  },
  {
   "cell_type": "code",
   "execution_count": null,
   "metadata": {},
   "outputs": [],
   "source": [
    "# Code by Bhavy Kharbanda\n",
    "# Sap Id: 500082531"
   ]
  },
  {
   "cell_type": "code",
   "execution_count": 20,
   "metadata": {},
   "outputs": [],
   "source": [
    "# Reference of the website for the algorithm:\n",
    "# https://www.edureka.co/blog/find-s-algorithm-in-machine-learning/\n",
    "# https://www.youtube.com/watch?v=O6vwN74aSGY"
   ]
  },
  {
   "cell_type": "code",
   "execution_count": 21,
   "metadata": {},
   "outputs": [],
   "source": [
    "# > What happens in the Find-S algorithm?\n",
    "\n",
    "# 1. Initialize ‘h’ to the most specific hypothesis.\n",
    "# 2. The Find-S algorithm only considers the positive examples and eliminates negative examples. For each positive example, the algorithm checks for each attribute in the example. If the attribute value is the same as the hypothesis value, the algorithm moves on without any changes. But if the attribute value is different than the hypothesis value, the algorithm changes it to ‘?’."
   ]
  },
  {
   "cell_type": "code",
   "execution_count": 22,
   "metadata": {},
   "outputs": [],
   "source": [
    "# > Algorithm\n",
    "# 1. The process starts with initializing ‘h’ with the most specific hypothesis, generally, it is the first positive example in the data set.\n",
    "# 2. We check for each positive example. If the example is negative, we will move on to the next example but if it is a positive example we will consider it for the next step.\n",
    "# 3. We will check if each attribute in the example is equal to the hypothesis value.\n",
    "# 4. If the value matches, then no changes are made.\n",
    "# 5. If the value does not match, the value is changed to ‘?’.\n",
    "# 6. We do this until we reach the last positive example in the data set."
   ]
  },
  {
   "cell_type": "code",
   "execution_count": 24,
   "metadata": {},
   "outputs": [],
   "source": [
    "# Importing Libraries\n",
    "import pandas as pd\n",
    "import numpy as np"
   ]
  },
  {
   "cell_type": "code",
   "execution_count": 25,
   "metadata": {},
   "outputs": [
    {
     "name": "stdout",
     "output_type": "stream",
     "text": [
      "Dataset being used: \n",
      "      Time Weather      Temp Company Humidity    Wind Target\n",
      "0  Morning   Sunny      Warm     Yes     Mild  Strong    Yes\n",
      "1  Evening   Rainy      Cold      No     Mild  Normal     No\n",
      "2  Morning   Sunny  Moderate     Yes   Normal  Normal    Yes\n",
      "3  Evening   Sunny      Cold     Yes     High  Strong    Yes\n"
     ]
    }
   ],
   "source": [
    "# Reading the data in the csv file\n",
    "data = pd.read_csv(\"weather_dataset1.csv\")\n",
    "print(\"Dataset being used: \")\n",
    "print(data)"
   ]
  },
  {
   "cell_type": "code",
   "execution_count": 26,
   "metadata": {},
   "outputs": [
    {
     "data": {
      "text/plain": [
       "pandas.core.frame.DataFrame"
      ]
     },
     "execution_count": 26,
     "metadata": {},
     "output_type": "execute_result"
    }
   ],
   "source": [
    "type(data)"
   ]
  },
  {
   "cell_type": "code",
   "execution_count": 27,
   "metadata": {},
   "outputs": [
    {
     "name": "stdout",
     "output_type": "stream",
     "text": [
      "The attributes are: \n",
      " [['Morning' 'Sunny' 'Warm' 'Yes' 'Mild' 'Strong']\n",
      " ['Evening' 'Rainy' 'Cold' 'No' 'Mild' 'Normal']\n",
      " ['Morning' 'Sunny' 'Moderate' 'Yes' 'Normal' 'Normal']\n",
      " ['Evening' 'Sunny' 'Cold' 'Yes' 'High' 'Strong']]\n"
     ]
    }
   ],
   "source": [
    "# Array of all the attributes\n",
    "# Converting the dataframe to an array except the target values.\n",
    "att = np.array(data)[:, :-1]\n",
    "print(\"The attributes are: \\n\", att)"
   ]
  },
  {
   "cell_type": "code",
   "execution_count": 28,
   "metadata": {},
   "outputs": [
    {
     "name": "stdout",
     "output_type": "stream",
     "text": [
      "The target is: \n",
      " ['Yes' 'No' 'Yes' 'Yes']\n"
     ]
    }
   ],
   "source": [
    "# Separating the target that has positive and negative examples\n",
    "# Converting the tareget column to an array \n",
    "\n",
    "target = np.array(data)[:, -1]\n",
    "print(\"The target is: \\n\", target)"
   ]
  },
  {
   "cell_type": "code",
   "execution_count": 29,
   "metadata": {},
   "outputs": [],
   "source": [
    "# Main training function for the Algorithm:\n",
    "\n",
    "def train1(gen_att, tar):\n",
    "    for i, val in enumerate(tar):\n",
    "        if val == \"Yes\":\n",
    "            Spec_Hypothesis = gen_att[i].copy()\n",
    "            break\n",
    "\n",
    "    for i, val in enumerate(gen_att):\n",
    "        if tar[i] == \"Yes\":\n",
    "            for x in range(len(Spec_Hypothesis)):\n",
    "                if val[x] != Spec_Hypothesis[x]:\n",
    "                    Spec_Hypothesis[x] = '?'\n",
    "                else:\n",
    "                    pass\n",
    "\n",
    "    return Spec_Hypothesis"
   ]
  },
  {
   "cell_type": "code",
   "execution_count": 30,
   "metadata": {},
   "outputs": [
    {
     "name": "stdout",
     "output_type": "stream",
     "text": [
      "The final hypothesis is: ['?' 'Sunny' '?' 'Yes' '?' '?']\n"
     ]
    }
   ],
   "source": [
    "# The Final Hypothesis is:\n",
    "\n",
    "print(\"The final hypothesis is:\",train1(att,target))"
   ]
  },
  {
   "attachments": {},
   "cell_type": "markdown",
   "metadata": {},
   "source": [
    "### Trying the same exmple on another dataset"
   ]
  },
  {
   "cell_type": "code",
   "execution_count": 31,
   "metadata": {},
   "outputs": [
    {
     "name": "stdout",
     "output_type": "stream",
     "text": [
      "Dataset being used: \n",
      "     sky airtemp humidity    wind water forcast enjoysport\n",
      "0  sunny    warm   normal  strong  warm    same        yes\n",
      "1  sunny    warm     high  strong  warm    same        yes\n",
      "2  rainy    cold     high  strong  warm  change         no\n",
      "3  sunny    warm     high  strong  cool  change        yes\n"
     ]
    }
   ],
   "source": [
    "# Reading the data in the csv file\n",
    "data2 = pd.read_csv(\"weather_dataset2.csv\")\n",
    "print(\"Dataset being used: \")\n",
    "print(data2)"
   ]
  },
  {
   "cell_type": "code",
   "execution_count": 32,
   "metadata": {},
   "outputs": [
    {
     "data": {
      "text/plain": [
       "pandas.core.frame.DataFrame"
      ]
     },
     "execution_count": 32,
     "metadata": {},
     "output_type": "execute_result"
    }
   ],
   "source": [
    "type(data2)"
   ]
  },
  {
   "cell_type": "code",
   "execution_count": 33,
   "metadata": {},
   "outputs": [
    {
     "name": "stdout",
     "output_type": "stream",
     "text": [
      "The attributes are: \n",
      " [['sunny' 'warm' 'normal' 'strong' 'warm' 'same']\n",
      " ['sunny' 'warm' 'high' 'strong' 'warm' 'same']\n",
      " ['rainy' 'cold' 'high' 'strong' 'warm' 'change']\n",
      " ['sunny' 'warm' 'high' 'strong' 'cool' 'change']]\n"
     ]
    }
   ],
   "source": [
    "# Array of all the attributes\n",
    "# Converting the dataframe to an array except the target values.\n",
    "att2 = np.array(data2)[:, :-1]\n",
    "print(\"The attributes are: \\n\", att2)"
   ]
  },
  {
   "cell_type": "code",
   "execution_count": 34,
   "metadata": {},
   "outputs": [
    {
     "name": "stdout",
     "output_type": "stream",
     "text": [
      "The target is: \n",
      " ['yes' 'yes' 'no' 'yes']\n"
     ]
    }
   ],
   "source": [
    "# Separating the target that has positive and negative examples\n",
    "# Converting the tareget column to an array \n",
    "\n",
    "target2 = np.array(data2)[:, -1]\n",
    "print(\"The target is: \\n\", target2)"
   ]
  },
  {
   "cell_type": "code",
   "execution_count": 35,
   "metadata": {},
   "outputs": [],
   "source": [
    "# Main training function for the Algorithm:\n",
    "def train2(gen_att2, tar2):\n",
    "    for i, val in enumerate(tar2):\n",
    "        if val == \"yes\":\n",
    "            obt_hypothesis = gen_att2[i].copy()\n",
    "            break\n",
    "\n",
    "    for i, val in enumerate(gen_att2):\n",
    "        if tar2[i] == \"yes\":\n",
    "            for x in range(len(obt_hypothesis)):\n",
    "                if val[x] != obt_hypothesis[x]:\n",
    "                    obt_hypothesis[x] = '?'\n",
    "                else:\n",
    "                    pass\n",
    "    \n",
    "    return obt_hypothesis"
   ]
  },
  {
   "cell_type": "code",
   "execution_count": 36,
   "metadata": {},
   "outputs": [
    {
     "name": "stdout",
     "output_type": "stream",
     "text": [
      "The final hypothesis is: ['sunny' 'warm' '?' 'strong' '?' '?']\n"
     ]
    }
   ],
   "source": [
    "# The Final Hypothesis is:\n",
    "print(\"The final hypothesis is:\", train2(att2,target2))"
   ]
  }
 ],
 "metadata": {
  "kernelspec": {
   "display_name": "Python 3",
   "language": "python",
   "name": "python3"
  },
  "language_info": {
   "codemirror_mode": {
    "name": "ipython",
    "version": 3
   },
   "file_extension": ".py",
   "mimetype": "text/x-python",
   "name": "python",
   "nbconvert_exporter": "python",
   "pygments_lexer": "ipython3",
   "version": "3.10.7"
  },
  "orig_nbformat": 4,
  "vscode": {
   "interpreter": {
    "hash": "3ee691e3c2883c6a130fe7a4fe904a1eaf00aeea2af805a016ed0d0bd8e74479"
   }
  }
 },
 "nbformat": 4,
 "nbformat_minor": 2
}
